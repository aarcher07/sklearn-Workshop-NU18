{
 "cells": [
  {
   "cell_type": "code",
   "execution_count": 37,
   "metadata": {},
   "outputs": [],
   "source": [
    "import numpy\n",
    "import pandas as pd\n",
    "import datetime\n",
    "from CompBioProject import functions\n",
    "import matplotlib\n",
    "%matplotlib inline\n",
    "import matplotlib.pyplot as plt"
   ]
  },
  {
   "cell_type": "markdown",
   "metadata": {},
   "source": [
    "# 1. Preprocessing"
   ]
  },
  {
   "cell_type": "markdown",
   "metadata": {},
   "source": [
    "## TODO: ADD DESCRIPTION OF AVOCADO DATA SET"
   ]
  },
  {
   "cell_type": "code",
   "execution_count": 2,
   "metadata": {},
   "outputs": [],
   "source": [
    "avocado_path = '/Users/aarcher/Downloads/avocado.csv'\n",
    "\n",
    "avocado_csv = pd.read_csv(avocado_path,header=0)\n",
    "avocado_csv.drop('Unnamed: 0', axis=1, inplace=True)\n",
    "month = [int(date[5:7]) for date in avocado_csv.loc[:,'Date'].values]\n",
    "avocado_csv.loc[:,'Month'] = month"
   ]
  },
  {
   "cell_type": "code",
   "execution_count": 3,
   "metadata": {},
   "outputs": [
    {
     "data": {
      "text/plain": [
       "array(['Date', 'AveragePrice', 'Total Volume', '4046', '4225', '4770',\n",
       "       'Total Bags', 'Small Bags', 'Large Bags', 'XLarge Bags', 'type',\n",
       "       'year', 'region', 'Month'], dtype=object)"
      ]
     },
     "execution_count": 3,
     "metadata": {},
     "output_type": "execute_result"
    }
   ],
   "source": [
    "avocado_csv.columns.values"
   ]
  },
  {
   "cell_type": "code",
   "execution_count": 4,
   "metadata": {},
   "outputs": [],
   "source": [
    "# cities_to_state=pd.Series({'Albany': 'NY', 'Atlanta': 'GA', 'BaltimoreWashington': 'MD', 'Boise': 'ID', 'Boston':'MA',\n",
    "# 'BuffaloRochester': 'NY', 'California':'CA', 'Charlotte':'NC', 'Chicago':'IL', 'CincinnatiDayton':'OH',\n",
    "# 'Columbus':'OH', 'DallasFtWorth': 'TX', 'Denver':'CO', 'Detroit':'MI','GrandRapids': 'MI', 'GreatLakes':'Great Lakes',\n",
    "# 'HarrisburgScranton':'PA', 'HartfordSpringfield': 'CT', 'Houston':'TX', 'Indianapolis': 'IN',\n",
    "# 'Jacksonville':'FL', 'LasVegas':'NV', 'LosAngeles': 'CA', 'Louisville':'KY', 'MiamiFtLauderdale':'FL',\n",
    "# 'Midsouth':'Midsouth', 'Nashville': 'TN', 'NewOrleansMobile':'LA', 'NewYork':'NY', 'Northeast':'Northeast',\n",
    "# 'NorthernNewEngland':'Northern New England', 'Orlando':'FL', 'Philadelphia': 'PA', 'PhoenixTucson':'NM',\n",
    "# 'Pittsburgh':'PA', 'Plains':'Plains' ,'Portland':'OR', 'RaleighGreensboro':'NC', 'RichmondNorfolk':'VA',\n",
    "# 'Roanoke':'VA', 'Sacramento':'CA', 'SanDiego':'CA', 'SanFrancisco':'CA', 'Seattle':'WA',\n",
    "# 'SouthCarolina':'SC', 'SouthCentral':'SouthCentral', 'Southeast':'Southeast', 'Spokane':'WA', \n",
    "# 'StLouis':'MO', 'Syracuse':'NY','Tampa':'NY','TotalUS':'TotalUS','West':'West', 'WestTexNewMexico':'WestTexNewMexico'}).reset_index()\n",
    "\n",
    "#collections = ['Great Lakes', 'Midsouth', 'Northeast','Northern New England', 'SouthCentral','Plains','CA','Southeast','TotalUS','West','WestTexNewMexico']\n",
    "# change column names\n",
    "#cities_to_state.columns =['region','State'] \n",
    "\n",
    "#avocado_csv = pd.merge(avocado_csv, cities_to_state,on='region')"
   ]
  },
  {
   "cell_type": "markdown",
   "metadata": {},
   "source": [
    "The total_volume_and_bags stores the values from the Total Volume and Total Bags columns. "
   ]
  },
  {
   "cell_type": "code",
   "execution_count": 5,
   "metadata": {},
   "outputs": [
    {
     "name": "stdout",
     "output_type": "stream",
     "text": [
      "The first 5 entries of total volume are:\n",
      "    Total Volume  Total Bags\n",
      "0      64236.62     8696.87\n",
      "1      54876.98     9505.56\n",
      "2     118220.22     8145.35\n",
      "3      78992.15     5811.16\n",
      "4      51039.60     6183.95\n"
     ]
    }
   ],
   "source": [
    "total_volume_and_bags = avocado_csv.loc[:,['Total Volume','Total Bags']]\n",
    "print('The first 5 entries of total volume are:\\n',total_volume_and_bags[0:5]) "
   ]
  },
  {
   "cell_type": "markdown",
   "metadata": {},
   "source": [
    "## Exercise 1.1\n",
    "\n",
    "I have already normalize total_volume_and_bags and print its value. See the below.\n",
    "\n",
    "Standardize total_volume_and_bags using an instance of StandardScaler. Print the standardized variables."
   ]
  },
  {
   "cell_type": "code",
   "execution_count": 6,
   "metadata": {},
   "outputs": [
    {
     "name": "stdout",
     "output_type": "stream",
     "text": [
      "The normalized Total Volume and Total Bags are:\n",
      " [[0.99095914 0.13416401]\n",
      " [0.9853275  0.17067429]\n",
      " [0.99763483 0.06873684]\n",
      " [0.99730493 0.07336803]\n",
      " [0.99273998 0.12028022]]\n",
      "\n",
      "\n",
      "The standardized Total Volume and Total Bags are:\n",
      " [[-0.22771641 -0.23417028]\n",
      " [-0.23042664 -0.23335029]\n",
      " [-0.21208462 -0.23472951]\n",
      " [-0.22344372 -0.23709633]\n",
      " [-0.23153781 -0.23671832]]\n"
     ]
    }
   ],
   "source": [
    "from sklearn.preprocessing import StandardScaler\n",
    "from sklearn.preprocessing import Normalizer\n",
    "\n",
    "normalizer_scaler = Normalizer()\n",
    "normalized_volume_bags = normalizer_scaler.fit_transform(total_volume_and_bags)\n",
    "print('The normalized Total Volume and Total Bags are:\\n',normalized_volume_bags[0:5,:])\n",
    "print('\\n')\n",
    "standardized_scaler = StandardScaler()\n",
    "standardized_volume_bags = standardized_scaler.fit_transform(total_volume_and_bags)\n",
    "print('The standardized Total Volume and Total Bags are:\\n',standardized_volume_bags[0:5,:])"
   ]
  },
  {
   "cell_type": "markdown",
   "metadata": {},
   "source": [
    "The region_categories and type_categories variables store the unique categorical variables in the region and type column."
   ]
  },
  {
   "cell_type": "code",
   "execution_count": 7,
   "metadata": {},
   "outputs": [
    {
     "name": "stdout",
     "output_type": "stream",
     "text": [
      "Region categories are:  ['Albany' 'Atlanta' 'BaltimoreWashington' 'Boise' 'Boston'\n",
      " 'BuffaloRochester' 'California' 'Charlotte' 'Chicago' 'CincinnatiDayton'\n",
      " 'Columbus' 'DallasFtWorth' 'Denver' 'Detroit' 'GrandRapids' 'GreatLakes'\n",
      " 'HarrisburgScranton' 'HartfordSpringfield' 'Houston' 'Indianapolis'\n",
      " 'Jacksonville' 'LasVegas' 'LosAngeles' 'Louisville' 'MiamiFtLauderdale'\n",
      " 'Midsouth' 'Nashville' 'NewOrleansMobile' 'NewYork' 'Northeast'\n",
      " 'NorthernNewEngland' 'Orlando' 'Philadelphia' 'PhoenixTucson'\n",
      " 'Pittsburgh' 'Plains' 'Portland' 'RaleighGreensboro' 'RichmondNorfolk'\n",
      " 'Roanoke' 'Sacramento' 'SanDiego' 'SanFrancisco' 'Seattle'\n",
      " 'SouthCarolina' 'SouthCentral' 'Southeast' 'Spokane' 'StLouis' 'Syracuse'\n",
      " 'Tampa' 'TotalUS' 'West' 'WestTexNewMexico'] \n",
      "\n",
      "Type categories are:  ['conventional' 'organic'] \n",
      "\n"
     ]
    }
   ],
   "source": [
    "region_categories = avocado_csv.loc[:,'region'].unique()\n",
    "type_categories = avocado_csv.loc[:,'type'].unique()\n",
    "\n",
    "print('Region categories are: ',region_categories,'\\n')\n",
    "print('Type categories are: ',type_categories,'\\n')"
   ]
  },
  {
   "cell_type": "markdown",
   "metadata": {},
   "source": [
    "## Exercise 1.2\n",
    "Encode region_categories and type_categories using LabelEncoder and print the encoded region and type categories. Note you must use different instantiations of LabelEncoder to encode region_categories and type_categories. "
   ]
  },
  {
   "cell_type": "code",
   "execution_count": 8,
   "metadata": {},
   "outputs": [
    {
     "name": "stdout",
     "output_type": "stream",
     "text": [
      "The encoded region categories are: [ 0  1  2  3  4  5  6  7  8  9 10 11 12 13 14 15 16 17 18 19 20 21 22 23\n",
      " 24 25 26 27 28 29 30 31 32 33 34 35 36 37 38 39 40 41 42 43 44 45 46 47\n",
      " 48 49 50 51 52 53]\n",
      "\n",
      "\n",
      "The encoded types are: [0 1]\n"
     ]
    }
   ],
   "source": [
    "from sklearn.preprocessing import LabelEncoder\n",
    "\n",
    "region_encoder = LabelEncoder()\n",
    "type_encoder  = LabelEncoder()\n",
    "encoded_region_cats = region_encoder.fit_transform(region_categories)\n",
    "encoded_type_cats = type_encoder.fit_transform(type_categories)\n",
    "print('The encoded region categories are:', encoded_region_cats)\n",
    "print('\\n')\n",
    "print('The encoded types are:', encoded_type_cats)"
   ]
  },
  {
   "cell_type": "markdown",
   "metadata": {},
   "source": [
    "To encode the region and type column use the commands below:"
   ]
  },
  {
   "cell_type": "code",
   "execution_count": 9,
   "metadata": {},
   "outputs": [
    {
     "name": "stdout",
     "output_type": "stream",
     "text": [
      "Before the region column was: \n",
      " 0    Albany\n",
      "1    Albany\n",
      "2    Albany\n",
      "3    Albany\n",
      "4    Albany\n",
      "5    Albany\n",
      "Name: region, dtype: object\n",
      "\n",
      "\n",
      "Before the type column was: \n",
      " 0    conventional\n",
      "1    conventional\n",
      "2    conventional\n",
      "3    conventional\n",
      "4    conventional\n",
      "5    conventional\n",
      "Name: type, dtype: object\n"
     ]
    }
   ],
   "source": [
    "print('Before the region column was: \\n', avocado_csv.loc[0:5,'region'])\n",
    "print('\\n')\n",
    "print('Before the type column was: \\n', avocado_csv.loc[0:5,'type'])"
   ]
  },
  {
   "cell_type": "code",
   "execution_count": 10,
   "metadata": {},
   "outputs": [],
   "source": [
    "## RUN THIS ONLY ONCE. IF YOU RUN IT TWICE OR MORE, YOU WILL GET AN ERROR ##\n",
    "\n",
    "avocado_csv.loc[:,'region'] = region_encoder.transform(avocado_csv.loc[:,'region'])\n",
    "avocado_csv.loc[:,'type'] = type_encoder.transform(avocado_csv.loc[:,'type'])\n",
    "\n",
    "## RUN THIS ONLY ONCE. IF YOU RUN IT TWICE OR MORE, YOU WILL GET AN ERROR ##"
   ]
  },
  {
   "cell_type": "code",
   "execution_count": 11,
   "metadata": {},
   "outputs": [
    {
     "name": "stdout",
     "output_type": "stream",
     "text": [
      "After the region column is now: \n",
      " 0    0\n",
      "1    0\n",
      "2    0\n",
      "3    0\n",
      "4    0\n",
      "5    0\n",
      "Name: region, dtype: int64\n",
      "\n",
      "\n",
      "After the type column is now: \n",
      " 0    0\n",
      "1    0\n",
      "2    0\n",
      "3    0\n",
      "4    0\n",
      "5    0\n",
      "Name: type, dtype: int64\n"
     ]
    }
   ],
   "source": [
    "print('After the region column is now: \\n', avocado_csv.loc[0:5,'region'])\n",
    "print('\\n')\n",
    "print('After the type column is now: \\n', avocado_csv.loc[0:5,'type'])"
   ]
  },
  {
   "cell_type": "markdown",
   "metadata": {},
   "source": [
    "We are attempting to predict price of an avocado given the demand, time of year and place of purchase.\n",
    "\n",
    "We are then using the columns, '4046' '4225' '4770' 'Small Bags' 'Large Bags' 'XLarge Bags' 'type'\n",
    " 'year' 'region' 'Month', as explanatory variables and the price as the price variable.\n",
    " \n",
    "avocado_explanatory_variables stores the explanatory variables and avocado_response_variables stores the response."
   ]
  },
  {
   "cell_type": "code",
   "execution_count": 12,
   "metadata": {},
   "outputs": [
    {
     "name": "stdout",
     "output_type": "stream",
     "text": [
      "avocado_explanatory_variables stores: \n",
      "       4046       4225    4770  Small Bags  Large Bags  XLarge Bags  type  \\\n",
      "0  1036.74   54454.85   48.16     8603.62       93.25          0.0     0   \n",
      "1   674.28   44638.81   58.33     9408.07       97.49          0.0     0   \n",
      "2   794.70  109149.67  130.50     8042.21      103.14          0.0     0   \n",
      "3  1132.00   71976.41   72.58     5677.40      133.76          0.0     0   \n",
      "4   941.48   43838.39   75.78     5986.26      197.69          0.0     0   \n",
      "5  1184.27   48067.99   43.61     6556.47      127.44          0.0     0   \n",
      "\n",
      "   year  region  Month  \n",
      "0  2015       0     12  \n",
      "1  2015       0     12  \n",
      "2  2015       0     12  \n",
      "3  2015       0     12  \n",
      "4  2015       0     11  \n",
      "5  2015       0     11  \n",
      "\n",
      "\n",
      "avocado_response_variables stores: \n",
      " 0    1.33\n",
      "1    1.35\n",
      "2    0.93\n",
      "3    1.08\n",
      "4    1.28\n",
      "5    1.26\n",
      "Name: AveragePrice, dtype: float64\n"
     ]
    }
   ],
   "source": [
    "avocado_response_variables = avocado_csv.loc[:,'AveragePrice']\n",
    "avocado_explanatory_variables = avocado_csv.drop(['Date','Total Volume','Total Bags','AveragePrice'], axis=1)\n",
    "print('avocado_explanatory_variables stores: \\n',avocado_explanatory_variables.loc[0:5,:])\n",
    "print('\\n')\n",
    "print('avocado_response_variables stores: \\n',avocado_response_variables.loc[0:5])"
   ]
  },
  {
   "cell_type": "markdown",
   "metadata": {},
   "source": [
    "Below, I use train_test_split to split avocado_explanatory_variables into training_set, test_set. I use train_test_split to split avocado_response_variables y_training_set and y_test_set.\n",
    "\n",
    "I use a 7:3 training to test split."
   ]
  },
  {
   "cell_type": "code",
   "execution_count": 13,
   "metadata": {},
   "outputs": [],
   "source": [
    "from sklearn.model_selection import train_test_split\n",
    "training_set, test_set, y_training_set, y_test_set = train_test_split(avocado_explanatory_variables,avocado_response_variables,test_size=0.30,train_size=0.70,random_state=0)"
   ]
  },
  {
   "cell_type": "markdown",
   "metadata": {},
   "source": [
    "## Exercise 1.3\n",
    "\n",
    "The Avocado dataset has 18248 observation. Instead of splitting the data set using a fraction, do 7:3 split using integers.\n",
    "\n",
    "That is, train_size and test_size to integers so that we get a 7:3 split.\n",
    "\n",
    "Note: $18248 * 30\\% \\approx 5474$."
   ]
  },
  {
   "cell_type": "code",
   "execution_count": 14,
   "metadata": {},
   "outputs": [],
   "source": [
    "training_set, test_set, y_training_set, y_test_set = train_test_split(avocado_explanatory_variables,avocado_response_variables,test_size=5474,train_size=18248-5474,random_state=0)"
   ]
  },
  {
   "cell_type": "markdown",
   "metadata": {},
   "source": [
    "# 2. Regression"
   ]
  },
  {
   "cell_type": "markdown",
   "metadata": {},
   "source": [
    "Using an instance of LinearRegression, I regress the columns of training_set against y_training_set."
   ]
  },
  {
   "cell_type": "code",
   "execution_count": 16,
   "metadata": {},
   "outputs": [
    {
     "data": {
      "text/plain": [
       "LinearRegression(copy_X=True, fit_intercept=True, n_jobs=1, normalize=False)"
      ]
     },
     "execution_count": 16,
     "metadata": {},
     "output_type": "execute_result"
    }
   ],
   "source": [
    "from sklearn.linear_model import LinearRegression\n",
    "lr = LinearRegression()\n",
    "lr.fit(training_set,y_training_set)"
   ]
  },
  {
   "cell_type": "markdown",
   "metadata": {},
   "source": [
    "## Exercise 2.1\n",
    "\n",
    "Print the coefficients of lr. Also print the $R^2$ value of the model using the training set and test set."
   ]
  },
  {
   "cell_type": "code",
   "execution_count": 17,
   "metadata": {
    "scrolled": true
   },
   "outputs": [
    {
     "name": "stdout",
     "output_type": "stream",
     "text": [
      "The coefficients, except the intercept, are:  [-8.71077932e-08  1.07759084e-07 -3.75422830e-07  1.57770844e-08\n",
      " -1.75516859e-07  1.58775356e-06  4.90349239e-01  4.96128258e-02\n",
      "  3.41515586e-04  2.03294508e-02] \n",
      "\n",
      "The intercept is:  -98.99821838135321 \n",
      "\n",
      "The R^2 from the training set is:  0.4386265073809944 \n",
      "\n",
      "The R^2 from the training set is:  0.4368177291522958 \n",
      "\n"
     ]
    }
   ],
   "source": [
    "print('The coefficients, except the intercept, are: ', lr.coef_,'\\n')\n",
    "print('The intercept is: ',lr.intercept_,'\\n')\n",
    "print('The R^2 from the training set is: ', str(lr.score(training_set,y_training_set)), '\\n')\n",
    "print('The R^2 from the training set is: ',str(lr.score(test_set,y_test_set)),'\\n')"
   ]
  },
  {
   "cell_type": "markdown",
   "metadata": {},
   "source": [
    "Using an instance of LASSO with alpha=1.0, I regress the columns of training_set against y_training_set."
   ]
  },
  {
   "cell_type": "code",
   "execution_count": 18,
   "metadata": {},
   "outputs": [
    {
     "name": "stdout",
     "output_type": "stream",
     "text": [
      "The coefficients, except the intercept, are:  [-1.06539888e-07  7.56100369e-08 -5.27540634e-07  2.35874828e-08\n",
      " -1.25334640e-07  1.56107932e-06  0.00000000e+00  0.00000000e+00\n",
      "  0.00000000e+00  0.00000000e+00] \n",
      "\n",
      "The intercept is:  1.420820564087721 \n",
      "\n",
      "The R^2 from the training set is:  0.05197880937141197 \n",
      "\n",
      "The R^2 from the training set is:  0.047708255355453866 \n",
      "\n"
     ]
    }
   ],
   "source": [
    "from sklearn.linear_model import Lasso\n",
    "lasso = Lasso(alpha=1.0)\n",
    "lasso.fit(training_set,y_training_set)\n",
    "\n",
    "print('The coefficients, except the intercept, are: ', lasso.coef_,'\\n')\n",
    "print('The intercept is: ',lasso.intercept_,'\\n')\n",
    "print('The R^2 from the training set is: ', str(lasso.score(training_set,y_training_set)), '\\n')\n",
    "print('The R^2 from the training set is: ',str(lasso.score(test_set,y_test_set)),'\\n')"
   ]
  },
  {
   "cell_type": "markdown",
   "metadata": {},
   "source": [
    "## Exercise 2.2 \n",
    "\n",
    "Now it's your turn!\n",
    "\n",
    "Using an instance of Rigid with alpha=1.0, regress the columns of training_set against y_training_set. Print the coefficients, interpet and $R^2$ with the training and test set."
   ]
  },
  {
   "cell_type": "code",
   "execution_count": 19,
   "metadata": {},
   "outputs": [
    {
     "name": "stdout",
     "output_type": "stream",
     "text": [
      "The coefficients, except the intercept, are:  [-8.71136504e-08  1.07749512e-07 -3.75445854e-07  1.57767870e-08\n",
      " -1.75511839e-07  1.58770737e-06  4.90186395e-01  4.96077760e-02\n",
      "  3.41749500e-04  2.03290132e-02] \n",
      "\n",
      "The intercept is:  -98.98795472643164 \n",
      "\n",
      "The R^2 from the training set is:  0.43862646877395295 \n",
      "\n",
      "The R^2 from the training set is:  0.4368196940889696 \n",
      "\n"
     ]
    }
   ],
   "source": [
    "from sklearn.linear_model import Ridge\n",
    "ridge = Ridge(alpha=1.0)\n",
    "ridge.fit(training_set,y_training_set)\n",
    "\n",
    "print('The coefficients, except the intercept, are: ', ridge.coef_,'\\n')\n",
    "print('The intercept is: ',ridge.intercept_,'\\n')\n",
    "print('The R^2 from the training set is: ', str(ridge.score(training_set,y_training_set)), '\\n')\n",
    "print('The R^2 from the training set is: ',str(ridge.score(test_set,y_test_set)),'\\n')"
   ]
  },
  {
   "cell_type": "code",
   "execution_count": 20,
   "metadata": {
    "scrolled": true
   },
   "outputs": [],
   "source": [
    "###### TODO: DELETE\n",
    "#from sklearn.decomposition import PCA\n",
    "#from sklearn.preprocessing import StandardScaler\n",
    "\n",
    "#pca = PCA(n_components=2)\n",
    "#standard_scaler_pca = StandardScaler()\n",
    "#pca_model = pca.fit_transform(avocado_explanatory_variables)\n",
    "#standardized_pca_model = standard_scaler_pca.fit_transform(pca_model)\n",
    "#colours = ['red','blue']\n",
    "#plt.scatter(standardized_pca_model[:,0], standardized_pca_model[:, 1],s=0.5,  cmap=matplotlib.colors.ListedColormap(colours))\n",
    "###### TODO: DELETE\n"
   ]
  },
  {
   "cell_type": "markdown",
   "metadata": {},
   "source": [
    "I use an instance of DecisionTreeRegressor to regress training_set against y_training_set.\n",
    "\n",
    "I print the feature importance and $R^2$ value using training set and test set."
   ]
  },
  {
   "cell_type": "code",
   "execution_count": 23,
   "metadata": {},
   "outputs": [
    {
     "name": "stdout",
     "output_type": "stream",
     "text": [
      "4046 variable has importance, 0.0977578079119332 \n",
      "\n",
      "4225 variable has importance, 0.08870538485933198 \n",
      "\n",
      "4770 variable has importance, 0.03641867387458373 \n",
      "\n",
      "Small Bags variable has importance, 0.07379419250441248 \n",
      "\n",
      "Large Bags variable has importance, 0.1020082915602354 \n",
      "\n",
      "XLarge Bags variable has importance, 0.006852110432690078 \n",
      "\n",
      "type variable has importance, 0.3822676786969216 \n",
      "\n",
      "year variable has importance, 0.06946641235260044 \n",
      "\n",
      "region variable has importance, 0.04890116452214015 \n",
      "\n",
      "Month variable has importance, 0.09382828328515098 \n",
      "\n",
      "The R^2 value for training set is:  1.0\n",
      "The R^2 value for test set is:  0.7333098310263219\n"
     ]
    }
   ],
   "source": [
    "from sklearn.tree import DecisionTreeRegressor\n",
    "dtr = DecisionTreeRegressor(max_depth=None,random_state=0)\n",
    "dtr.fit(training_set,y_training_set)\n",
    "\n",
    "for feature,importance in zip(avocado_explanatory_variables.columns.values.tolist(),dtr.feature_importances_):\n",
    "    print(feature,'variable has importance,', importance,'\\n')\n",
    "print('The R^2 value for training set is: ',dtr.score(training_set,y_training_set))\n",
    "print('The R^2 value for test set is: ',dtr.score(test_set,y_test_set))"
   ]
  },
  {
   "cell_type": "code",
   "execution_count": 35,
   "metadata": {},
   "outputs": [
    {
     "ename": "KeyboardInterrupt",
     "evalue": "",
     "traceback": [
      "\u001b[0;31m---------------------------------------------------------------------------\u001b[0m",
      "\u001b[0;31mKeyboardInterrupt\u001b[0m                         Traceback (most recent call last)",
      "\u001b[0;32m<ipython-input-35-13be0de3748b>\u001b[0m in \u001b[0;36m<module>\u001b[0;34m()\u001b[0m\n\u001b[1;32m      6\u001b[0m                          special_characters=True)  \n\u001b[1;32m      7\u001b[0m \u001b[0mgraph\u001b[0m \u001b[0;34m=\u001b[0m \u001b[0mgraphviz\u001b[0m\u001b[0;34m.\u001b[0m\u001b[0mSource\u001b[0m\u001b[0;34m(\u001b[0m\u001b[0mdot_data\u001b[0m\u001b[0;34m)\u001b[0m\u001b[0;34m\u001b[0m\u001b[0m\n\u001b[0;32m----> 8\u001b[0;31m \u001b[0mgraph\u001b[0m\u001b[0;34m\u001b[0m\u001b[0m\n\u001b[0m",
      "\u001b[0;32m/usr/local/lib/python3.6/site-packages/IPython/core/displayhook.py\u001b[0m in \u001b[0;36m__call__\u001b[0;34m(self, result)\u001b[0m\n\u001b[1;32m    255\u001b[0m             \u001b[0mself\u001b[0m\u001b[0;34m.\u001b[0m\u001b[0mstart_displayhook\u001b[0m\u001b[0;34m(\u001b[0m\u001b[0;34m)\u001b[0m\u001b[0;34m\u001b[0m\u001b[0m\n\u001b[1;32m    256\u001b[0m             \u001b[0mself\u001b[0m\u001b[0;34m.\u001b[0m\u001b[0mwrite_output_prompt\u001b[0m\u001b[0;34m(\u001b[0m\u001b[0;34m)\u001b[0m\u001b[0;34m\u001b[0m\u001b[0m\n\u001b[0;32m--> 257\u001b[0;31m             \u001b[0mformat_dict\u001b[0m\u001b[0;34m,\u001b[0m \u001b[0mmd_dict\u001b[0m \u001b[0;34m=\u001b[0m \u001b[0mself\u001b[0m\u001b[0;34m.\u001b[0m\u001b[0mcompute_format_data\u001b[0m\u001b[0;34m(\u001b[0m\u001b[0mresult\u001b[0m\u001b[0;34m)\u001b[0m\u001b[0;34m\u001b[0m\u001b[0m\n\u001b[0m\u001b[1;32m    258\u001b[0m             \u001b[0mself\u001b[0m\u001b[0;34m.\u001b[0m\u001b[0mupdate_user_ns\u001b[0m\u001b[0;34m(\u001b[0m\u001b[0mresult\u001b[0m\u001b[0;34m)\u001b[0m\u001b[0;34m\u001b[0m\u001b[0m\n\u001b[1;32m    259\u001b[0m             \u001b[0mself\u001b[0m\u001b[0;34m.\u001b[0m\u001b[0mfill_exec_result\u001b[0m\u001b[0;34m(\u001b[0m\u001b[0mresult\u001b[0m\u001b[0;34m)\u001b[0m\u001b[0;34m\u001b[0m\u001b[0m\n",
      "\u001b[0;32m/usr/local/lib/python3.6/site-packages/IPython/core/displayhook.py\u001b[0m in \u001b[0;36mcompute_format_data\u001b[0;34m(self, result)\u001b[0m\n\u001b[1;32m    149\u001b[0m \u001b[0;34m\u001b[0m\u001b[0m\n\u001b[1;32m    150\u001b[0m         \"\"\"\n\u001b[0;32m--> 151\u001b[0;31m         \u001b[0;32mreturn\u001b[0m \u001b[0mself\u001b[0m\u001b[0;34m.\u001b[0m\u001b[0mshell\u001b[0m\u001b[0;34m.\u001b[0m\u001b[0mdisplay_formatter\u001b[0m\u001b[0;34m.\u001b[0m\u001b[0mformat\u001b[0m\u001b[0;34m(\u001b[0m\u001b[0mresult\u001b[0m\u001b[0;34m)\u001b[0m\u001b[0;34m\u001b[0m\u001b[0m\n\u001b[0m\u001b[1;32m    152\u001b[0m \u001b[0;34m\u001b[0m\u001b[0m\n\u001b[1;32m    153\u001b[0m     \u001b[0;31m# This can be set to True by the write_output_prompt method in a subclass\u001b[0m\u001b[0;34m\u001b[0m\u001b[0;34m\u001b[0m\u001b[0m\n",
      "\u001b[0;32m/usr/local/lib/python3.6/site-packages/IPython/core/formatters.py\u001b[0m in \u001b[0;36mformat\u001b[0;34m(self, obj, include, exclude)\u001b[0m\n\u001b[1;32m    178\u001b[0m             \u001b[0mmd\u001b[0m \u001b[0;34m=\u001b[0m \u001b[0;32mNone\u001b[0m\u001b[0;34m\u001b[0m\u001b[0m\n\u001b[1;32m    179\u001b[0m             \u001b[0;32mtry\u001b[0m\u001b[0;34m:\u001b[0m\u001b[0;34m\u001b[0m\u001b[0m\n\u001b[0;32m--> 180\u001b[0;31m                 \u001b[0mdata\u001b[0m \u001b[0;34m=\u001b[0m \u001b[0mformatter\u001b[0m\u001b[0;34m(\u001b[0m\u001b[0mobj\u001b[0m\u001b[0;34m)\u001b[0m\u001b[0;34m\u001b[0m\u001b[0m\n\u001b[0m\u001b[1;32m    181\u001b[0m             \u001b[0;32mexcept\u001b[0m\u001b[0;34m:\u001b[0m\u001b[0;34m\u001b[0m\u001b[0m\n\u001b[1;32m    182\u001b[0m                 \u001b[0;31m# FIXME: log the exception\u001b[0m\u001b[0;34m\u001b[0m\u001b[0;34m\u001b[0m\u001b[0m\n",
      "\u001b[0;32m<decorator-gen-9>\u001b[0m in \u001b[0;36m__call__\u001b[0;34m(self, obj)\u001b[0m\n",
      "\u001b[0;32m/usr/local/lib/python3.6/site-packages/IPython/core/formatters.py\u001b[0m in \u001b[0;36mcatch_format_error\u001b[0;34m(method, self, *args, **kwargs)\u001b[0m\n\u001b[1;32m    222\u001b[0m     \u001b[0;34m\"\"\"show traceback on failed format call\"\"\"\u001b[0m\u001b[0;34m\u001b[0m\u001b[0m\n\u001b[1;32m    223\u001b[0m     \u001b[0;32mtry\u001b[0m\u001b[0;34m:\u001b[0m\u001b[0;34m\u001b[0m\u001b[0m\n\u001b[0;32m--> 224\u001b[0;31m         \u001b[0mr\u001b[0m \u001b[0;34m=\u001b[0m \u001b[0mmethod\u001b[0m\u001b[0;34m(\u001b[0m\u001b[0mself\u001b[0m\u001b[0;34m,\u001b[0m \u001b[0;34m*\u001b[0m\u001b[0margs\u001b[0m\u001b[0;34m,\u001b[0m \u001b[0;34m**\u001b[0m\u001b[0mkwargs\u001b[0m\u001b[0;34m)\u001b[0m\u001b[0;34m\u001b[0m\u001b[0m\n\u001b[0m\u001b[1;32m    225\u001b[0m     \u001b[0;32mexcept\u001b[0m \u001b[0mNotImplementedError\u001b[0m\u001b[0;34m:\u001b[0m\u001b[0;34m\u001b[0m\u001b[0m\n\u001b[1;32m    226\u001b[0m         \u001b[0;31m# don't warn on NotImplementedErrors\u001b[0m\u001b[0;34m\u001b[0m\u001b[0;34m\u001b[0m\u001b[0m\n",
      "\u001b[0;32m/usr/local/lib/python3.6/site-packages/IPython/core/formatters.py\u001b[0m in \u001b[0;36m__call__\u001b[0;34m(self, obj)\u001b[0m\n\u001b[1;32m    343\u001b[0m             \u001b[0mmethod\u001b[0m \u001b[0;34m=\u001b[0m \u001b[0mget_real_method\u001b[0m\u001b[0;34m(\u001b[0m\u001b[0mobj\u001b[0m\u001b[0;34m,\u001b[0m \u001b[0mself\u001b[0m\u001b[0;34m.\u001b[0m\u001b[0mprint_method\u001b[0m\u001b[0;34m)\u001b[0m\u001b[0;34m\u001b[0m\u001b[0m\n\u001b[1;32m    344\u001b[0m             \u001b[0;32mif\u001b[0m \u001b[0mmethod\u001b[0m \u001b[0;32mis\u001b[0m \u001b[0;32mnot\u001b[0m \u001b[0;32mNone\u001b[0m\u001b[0;34m:\u001b[0m\u001b[0;34m\u001b[0m\u001b[0m\n\u001b[0;32m--> 345\u001b[0;31m                 \u001b[0;32mreturn\u001b[0m \u001b[0mmethod\u001b[0m\u001b[0;34m(\u001b[0m\u001b[0;34m)\u001b[0m\u001b[0;34m\u001b[0m\u001b[0m\n\u001b[0m\u001b[1;32m    346\u001b[0m             \u001b[0;32mreturn\u001b[0m \u001b[0;32mNone\u001b[0m\u001b[0;34m\u001b[0m\u001b[0m\n\u001b[1;32m    347\u001b[0m         \u001b[0;32melse\u001b[0m\u001b[0;34m:\u001b[0m\u001b[0;34m\u001b[0m\u001b[0m\n",
      "\u001b[0;32m/usr/local/lib/python3.6/site-packages/graphviz/files.py\u001b[0m in \u001b[0;36m_repr_svg_\u001b[0;34m(self)\u001b[0m\n\u001b[1;32m    104\u001b[0m \u001b[0;34m\u001b[0m\u001b[0m\n\u001b[1;32m    105\u001b[0m     \u001b[0;32mdef\u001b[0m \u001b[0m_repr_svg_\u001b[0m\u001b[0;34m(\u001b[0m\u001b[0mself\u001b[0m\u001b[0;34m)\u001b[0m\u001b[0;34m:\u001b[0m\u001b[0;34m\u001b[0m\u001b[0m\n\u001b[0;32m--> 106\u001b[0;31m         \u001b[0;32mreturn\u001b[0m \u001b[0mself\u001b[0m\u001b[0;34m.\u001b[0m\u001b[0mpipe\u001b[0m\u001b[0;34m(\u001b[0m\u001b[0mformat\u001b[0m\u001b[0;34m=\u001b[0m\u001b[0;34m'svg'\u001b[0m\u001b[0;34m)\u001b[0m\u001b[0;34m.\u001b[0m\u001b[0mdecode\u001b[0m\u001b[0;34m(\u001b[0m\u001b[0mself\u001b[0m\u001b[0;34m.\u001b[0m\u001b[0m_encoding\u001b[0m\u001b[0;34m)\u001b[0m\u001b[0;34m\u001b[0m\u001b[0m\n\u001b[0m\u001b[1;32m    107\u001b[0m \u001b[0;34m\u001b[0m\u001b[0m\n\u001b[1;32m    108\u001b[0m     \u001b[0;32mdef\u001b[0m \u001b[0mpipe\u001b[0m\u001b[0;34m(\u001b[0m\u001b[0mself\u001b[0m\u001b[0;34m,\u001b[0m \u001b[0mformat\u001b[0m\u001b[0;34m=\u001b[0m\u001b[0;32mNone\u001b[0m\u001b[0;34m)\u001b[0m\u001b[0;34m:\u001b[0m\u001b[0;34m\u001b[0m\u001b[0m\n",
      "\u001b[0;32m/usr/local/lib/python3.6/site-packages/graphviz/files.py\u001b[0m in \u001b[0;36mpipe\u001b[0;34m(self, format)\u001b[0m\n\u001b[1;32m    123\u001b[0m         \u001b[0mdata\u001b[0m \u001b[0;34m=\u001b[0m \u001b[0mtext_type\u001b[0m\u001b[0;34m(\u001b[0m\u001b[0mself\u001b[0m\u001b[0;34m.\u001b[0m\u001b[0msource\u001b[0m\u001b[0;34m)\u001b[0m\u001b[0;34m.\u001b[0m\u001b[0mencode\u001b[0m\u001b[0;34m(\u001b[0m\u001b[0mself\u001b[0m\u001b[0;34m.\u001b[0m\u001b[0m_encoding\u001b[0m\u001b[0;34m)\u001b[0m\u001b[0;34m\u001b[0m\u001b[0m\n\u001b[1;32m    124\u001b[0m \u001b[0;34m\u001b[0m\u001b[0m\n\u001b[0;32m--> 125\u001b[0;31m         \u001b[0mouts\u001b[0m \u001b[0;34m=\u001b[0m \u001b[0mbackend\u001b[0m\u001b[0;34m.\u001b[0m\u001b[0mpipe\u001b[0m\u001b[0;34m(\u001b[0m\u001b[0mself\u001b[0m\u001b[0;34m.\u001b[0m\u001b[0m_engine\u001b[0m\u001b[0;34m,\u001b[0m \u001b[0mformat\u001b[0m\u001b[0;34m,\u001b[0m \u001b[0mdata\u001b[0m\u001b[0;34m)\u001b[0m\u001b[0;34m\u001b[0m\u001b[0m\n\u001b[0m\u001b[1;32m    126\u001b[0m \u001b[0;34m\u001b[0m\u001b[0m\n\u001b[1;32m    127\u001b[0m         \u001b[0;32mreturn\u001b[0m \u001b[0mouts\u001b[0m\u001b[0;34m\u001b[0m\u001b[0m\n",
      "\u001b[0;32m/usr/local/lib/python3.6/site-packages/graphviz/backend.py\u001b[0m in \u001b[0;36mpipe\u001b[0;34m(engine, format, data, quiet)\u001b[0m\n\u001b[1;32m    164\u001b[0m             \u001b[0;32mraise\u001b[0m\u001b[0;34m\u001b[0m\u001b[0m\n\u001b[1;32m    165\u001b[0m \u001b[0;34m\u001b[0m\u001b[0m\n\u001b[0;32m--> 166\u001b[0;31m     \u001b[0mouts\u001b[0m\u001b[0;34m,\u001b[0m \u001b[0merrs\u001b[0m \u001b[0;34m=\u001b[0m \u001b[0mproc\u001b[0m\u001b[0;34m.\u001b[0m\u001b[0mcommunicate\u001b[0m\u001b[0;34m(\u001b[0m\u001b[0mdata\u001b[0m\u001b[0;34m)\u001b[0m\u001b[0;34m\u001b[0m\u001b[0m\n\u001b[0m\u001b[1;32m    167\u001b[0m     \u001b[0;32mif\u001b[0m \u001b[0mproc\u001b[0m\u001b[0;34m.\u001b[0m\u001b[0mreturncode\u001b[0m\u001b[0;34m:\u001b[0m\u001b[0;34m\u001b[0m\u001b[0m\n\u001b[1;32m    168\u001b[0m         \u001b[0;32mif\u001b[0m \u001b[0;32mnot\u001b[0m \u001b[0mquiet\u001b[0m\u001b[0;34m:\u001b[0m\u001b[0;34m\u001b[0m\u001b[0m\n",
      "\u001b[0;32m/usr/local/Cellar/python/3.6.5/Frameworks/Python.framework/Versions/3.6/lib/python3.6/subprocess.py\u001b[0m in \u001b[0;36mcommunicate\u001b[0;34m(self, input, timeout)\u001b[0m\n\u001b[1;32m    841\u001b[0m \u001b[0;34m\u001b[0m\u001b[0m\n\u001b[1;32m    842\u001b[0m             \u001b[0;32mtry\u001b[0m\u001b[0;34m:\u001b[0m\u001b[0;34m\u001b[0m\u001b[0m\n\u001b[0;32m--> 843\u001b[0;31m                 \u001b[0mstdout\u001b[0m\u001b[0;34m,\u001b[0m \u001b[0mstderr\u001b[0m \u001b[0;34m=\u001b[0m \u001b[0mself\u001b[0m\u001b[0;34m.\u001b[0m\u001b[0m_communicate\u001b[0m\u001b[0;34m(\u001b[0m\u001b[0minput\u001b[0m\u001b[0;34m,\u001b[0m \u001b[0mendtime\u001b[0m\u001b[0;34m,\u001b[0m \u001b[0mtimeout\u001b[0m\u001b[0;34m)\u001b[0m\u001b[0;34m\u001b[0m\u001b[0m\n\u001b[0m\u001b[1;32m    844\u001b[0m             \u001b[0;32mfinally\u001b[0m\u001b[0;34m:\u001b[0m\u001b[0;34m\u001b[0m\u001b[0m\n\u001b[1;32m    845\u001b[0m                 \u001b[0mself\u001b[0m\u001b[0;34m.\u001b[0m\u001b[0m_communication_started\u001b[0m \u001b[0;34m=\u001b[0m \u001b[0;32mTrue\u001b[0m\u001b[0;34m\u001b[0m\u001b[0m\n",
      "\u001b[0;32m/usr/local/Cellar/python/3.6.5/Frameworks/Python.framework/Versions/3.6/lib/python3.6/subprocess.py\u001b[0m in \u001b[0;36m_communicate\u001b[0;34m(self, input, endtime, orig_timeout)\u001b[0m\n\u001b[1;32m   1512\u001b[0m                         \u001b[0;32mraise\u001b[0m \u001b[0mTimeoutExpired\u001b[0m\u001b[0;34m(\u001b[0m\u001b[0mself\u001b[0m\u001b[0;34m.\u001b[0m\u001b[0margs\u001b[0m\u001b[0;34m,\u001b[0m \u001b[0morig_timeout\u001b[0m\u001b[0;34m)\u001b[0m\u001b[0;34m\u001b[0m\u001b[0m\n\u001b[1;32m   1513\u001b[0m \u001b[0;34m\u001b[0m\u001b[0m\n\u001b[0;32m-> 1514\u001b[0;31m                     \u001b[0mready\u001b[0m \u001b[0;34m=\u001b[0m \u001b[0mselector\u001b[0m\u001b[0;34m.\u001b[0m\u001b[0mselect\u001b[0m\u001b[0;34m(\u001b[0m\u001b[0mtimeout\u001b[0m\u001b[0;34m)\u001b[0m\u001b[0;34m\u001b[0m\u001b[0m\n\u001b[0m\u001b[1;32m   1515\u001b[0m                     \u001b[0mself\u001b[0m\u001b[0;34m.\u001b[0m\u001b[0m_check_timeout\u001b[0m\u001b[0;34m(\u001b[0m\u001b[0mendtime\u001b[0m\u001b[0;34m,\u001b[0m \u001b[0morig_timeout\u001b[0m\u001b[0;34m)\u001b[0m\u001b[0;34m\u001b[0m\u001b[0m\n\u001b[1;32m   1516\u001b[0m \u001b[0;34m\u001b[0m\u001b[0m\n",
      "\u001b[0;32m/usr/local/Cellar/python/3.6.5/Frameworks/Python.framework/Versions/3.6/lib/python3.6/selectors.py\u001b[0m in \u001b[0;36mselect\u001b[0;34m(self, timeout)\u001b[0m\n\u001b[1;32m    374\u001b[0m             \u001b[0mready\u001b[0m \u001b[0;34m=\u001b[0m \u001b[0;34m[\u001b[0m\u001b[0;34m]\u001b[0m\u001b[0;34m\u001b[0m\u001b[0m\n\u001b[1;32m    375\u001b[0m             \u001b[0;32mtry\u001b[0m\u001b[0;34m:\u001b[0m\u001b[0;34m\u001b[0m\u001b[0m\n\u001b[0;32m--> 376\u001b[0;31m                 \u001b[0mfd_event_list\u001b[0m \u001b[0;34m=\u001b[0m \u001b[0mself\u001b[0m\u001b[0;34m.\u001b[0m\u001b[0m_poll\u001b[0m\u001b[0;34m.\u001b[0m\u001b[0mpoll\u001b[0m\u001b[0;34m(\u001b[0m\u001b[0mtimeout\u001b[0m\u001b[0;34m)\u001b[0m\u001b[0;34m\u001b[0m\u001b[0m\n\u001b[0m\u001b[1;32m    377\u001b[0m             \u001b[0;32mexcept\u001b[0m \u001b[0mInterruptedError\u001b[0m\u001b[0;34m:\u001b[0m\u001b[0;34m\u001b[0m\u001b[0m\n\u001b[1;32m    378\u001b[0m                 \u001b[0;32mreturn\u001b[0m \u001b[0mready\u001b[0m\u001b[0;34m\u001b[0m\u001b[0m\n",
      "\u001b[0;31mKeyboardInterrupt\u001b[0m: "
     ],
     "output_type": "error"
    }
   ],
   "source": [
    "import graphviz \n",
    "import sklearn.tree as tree\n",
    "dot_data = tree.export_graphviz(dtr, out_file=None, \n",
    "                         feature_names=avocado_explanatory_variables.columns.values.tolist(),  \n",
    "                         filled=True, rounded=True,  \n",
    "                         special_characters=True)  \n",
    "graph = graphviz.Source(dot_data)  \n",
    "graph "
   ]
  },
  {
   "cell_type": "code",
   "execution_count": 25,
   "metadata": {},
   "outputs": [
    {
     "name": "stdout",
     "output_type": "stream",
     "text": [
      "4046 variable has importance, 0.12358139623195978 \n",
      "\n",
      "4225 variable has importance, 0.07238978891480748 \n",
      "\n",
      "4770 variable has importance, 0.033248589779475125 \n",
      "\n",
      "Small Bags variable has importance, 0.11983742373042319 \n",
      "\n",
      "Large Bags variable has importance, 0.10107492082102768 \n",
      "\n",
      "XLarge Bags variable has importance, 0.010114120355936385 \n",
      "\n",
      "type variable has importance, 0.3489979752534674 \n",
      "\n",
      "year variable has importance, 0.06563727789217397 \n",
      "\n",
      "region variable has importance, 0.04492212731161513 \n",
      "\n",
      "Month variable has importance, 0.08019637970911395 \n",
      "\n",
      "0.8758748530964227\n",
      "0.8105353675809441\n"
     ]
    }
   ],
   "source": [
    "from sklearn.ensemble import RandomForestRegressor\n",
    "rf = RandomForestRegressor(n_estimators=10,max_depth=10,max_features=5,random_state=0)\n",
    "rf.fit(training_set,y_training_set)\n",
    "for feature,importance in zip(avocado_explanatory_variables.columns.values.tolist(),rf.feature_importances_):\n",
    "    print(feature,'variable has importance,', importance,'\\n')\n",
    "print(rf.score(training_set,y_training_set))\n",
    "print(rf.score(test_set,y_test_set))"
   ]
  },
  {
   "cell_type": "markdown",
   "metadata": {},
   "source": [
    "# 3. Dimensionality Reduction: PCA"
   ]
  },
  {
   "cell_type": "markdown",
   "metadata": {},
   "source": [
    "Below, I load the k-mers data set. "
   ]
  },
  {
   "cell_type": "code",
   "execution_count": 57,
   "metadata": {},
   "outputs": [],
   "source": [
    "address = \"2018-07-15T18\"\n",
    "kmers_training_set = functions.load_obj(address + \"/train\")\n",
    "label_training_set = functions.load_obj(address + \"/label_train\")\n",
    "kmers_test_set = functions.load_obj(address + \"/test\")\n",
    "label_test_set = functions.load_obj(address + \"/label_test\")"
   ]
  },
  {
   "cell_type": "markdown",
   "metadata": {},
   "source": [
    "I apply PCA without whitening to the k-mer training data set and reduce the number of features (dimensions) to 2."
   ]
  },
  {
   "cell_type": "code",
   "execution_count": 68,
   "metadata": {},
   "outputs": [],
   "source": [
    "from sklearn.decomposition import PCA\n",
    "pca_without_whitening = PCA(n_components=2,whiten=False)\n",
    "pca_without_whitening.fit(kmers_training_set.todense())\n",
    "\n",
    "kmers_training_pca_without_whitening = pca_without_whitening.transform(kmers_training_set.todense())"
   ]
  },
  {
   "cell_type": "markdown",
   "metadata": {},
   "source": [
    "Below, I generate a two dimensional plot of PCA data."
   ]
  },
  {
   "cell_type": "code",
   "execution_count": 69,
   "metadata": {
    "scrolled": true
   },
   "outputs": [
    {
     "data": {
      "image/png": "[encoded data removed]",
      "text/plain": [
       "<Figure size 432x288 with 1 Axes>"
      ]
     },
     "metadata": {},
     "output_type": "display_data"
    }
   ],
   "source": [
    "colours = ['red','blue']\n",
    "\n",
    "plt.scatter(kmers_training_pca_without_whitening[:, 0],kmers_training_pca_without_whitening[:, 1],\n",
    "            c=label_training_set, cmap=matplotlib.colors.ListedColormap(colours))\n",
    "plt.xlabel('$X_1$')\n",
    "plt.ylabel('$X_2$')\n",
    "plt.title('PCA plot of k-mer training data')\n",
    "plt.show()"
   ]
  },
  {
   "cell_type": "markdown",
   "metadata": {},
   "source": [
    "I apply learn PCA without whitening to the k-mer test data set and reduce the number of features (dimensions) to 2. I then plot test data."
   ]
  },
  {
   "cell_type": "code",
   "execution_count": 70,
   "metadata": {},
   "outputs": [],
   "source": [
    "kmer_test_pca_without_whitening = pca_without_whitening.transform(kmers_test_set.todense())"
   ]
  },
  {
   "cell_type": "code",
   "execution_count": 71,
   "metadata": {
    "scrolled": true
   },
   "outputs": [
    {
     "data": {
      "image/png": "[encoded data removed]",
      "text/plain": [
       "<Figure size 432x288 with 1 Axes>"
      ]
     },
     "metadata": {},
     "output_type": "display_data"
    }
   ],
   "source": [
    "colours = ['red','blue']\n",
    "\n",
    "plt.scatter(kmer_test_pca_without_whitening[:, 0],kmer_test_pca_without_whitening[:, 1],\n",
    "            c=label_test_set, cmap=matplotlib.colors.ListedColormap(colours))\n",
    "plt.xlabel('$X_1$')\n",
    "plt.ylabel('$X_2$')\n",
    "plt.title('PCA plot of k-mer test data')\n",
    "plt.show()"
   ]
  },
  {
   "cell_type": "markdown",
   "metadata": {},
   "source": [
    "I then print the explained variance and singular values for each singular value "
   ]
  },
  {
   "cell_type": "code",
   "execution_count": 72,
   "metadata": {},
   "outputs": [
    {
     "name": "stdout",
     "output_type": "stream",
     "text": [
      "Component 0 explains 60.88026635924089 variance\n",
      "Component 0 has singular value 128.9197917934743\n",
      "Component 1 explains 52.297747913922606 variance\n",
      "Component 1 has singular value 119.48759425354949\n"
     ]
    }
   ],
   "source": [
    "num = len(pca_without_whitening.explained_variance_)\n",
    "for i in range(num):\n",
    "    print('Component',i, 'explains',pca_without_whitening.explained_variance_[i],'variance')\n",
    "    print('Component',i, 'has singular value', pca_without_whitening.singular_values_[i])"
   ]
  },
  {
   "cell_type": "markdown",
   "metadata": {},
   "source": [
    "## Exercise 3.1\n",
    "\n",
    "Using the variables kmers_training_set_dense and kmers_test_set_dense, apply PCA with whiten to the k-mer training and test data set. The variables are initialized in the cell below.\n",
    "\n",
    "Store the reduced training in the variable, kmer_train_pca_with_whitening, and the reduced training in the variable, kmer_test_pca_with_whitening.\n",
    "\n",
    "Run the below code to generate a plot. Comment on the differences between the whitened and unwhitened(???????) plots."
   ]
  },
  {
   "cell_type": "code",
   "execution_count": 77,
   "metadata": {},
   "outputs": [],
   "source": [
    "kmers_training_set_dense = kmers_training_set.todense()\n",
    "kmers_test_set_dense = kmers_test_set.todense()\n",
    "\n",
    "pca_with_whitening = PCA(n_components=2,whiten=True)\n",
    "kmers_training_pca_with_whitening = pca_with_whitening.fit_transform(kmers_training_set_dense)\n",
    "\n",
    "kmer_test_pca_with_whitening = pca_with_whitening.transform(kmers_test_set_dense)"
   ]
  },
  {
   "cell_type": "code",
   "execution_count": 78,
   "metadata": {},
   "outputs": [
    {
     "data": {
      "image/png": "[encoded data removed]",
      "text/plain": [
       "<Figure size 432x288 with 1 Axes>"
      ]
     },
     "metadata": {},
     "output_type": "display_data"
    },
    {
     "data": {
      "image/png": "[encoded data removed]",
      "text/plain": [
       "<Figure size 432x288 with 1 Axes>"
      ]
     },
     "metadata": {},
     "output_type": "display_data"
    }
   ],
   "source": [
    "colours = ['red','blue']\n",
    "\n",
    "plt.scatter(kmers_training_pca_with_whitening[:, 0],kmers_training_pca_with_whitening[:, 1],\n",
    "            c=label_training_set, cmap=matplotlib.colors.ListedColormap(colours))\n",
    "plt.xlabel('$X_1$')\n",
    "plt.ylabel('$X_2$')\n",
    "plt.title('PCA plot of k-mer training data')\n",
    "plt.show()\n",
    "\n",
    "colours = ['red','blue']\n",
    "\n",
    "plt.scatter(kmer_test_pca_with_whitening[:, 0],kmer_test_pca_with_whitening[:, 1],\n",
    "            c=label_test_set, cmap=matplotlib.colors.ListedColormap(colours))\n",
    "plt.xlabel('$X_1$')\n",
    "plt.ylabel('$X_2$')\n",
    "plt.title('PCA plot of k-mer test data')\n",
    "plt.show()"
   ]
  },
  {
   "cell_type": "markdown",
   "metadata": {},
   "source": [
    "# 4. Classification"
   ]
  },
  {
   "cell_type": "code",
   "execution_count": 92,
   "metadata": {},
   "outputs": [
    {
     "data": {
      "text/plain": [
       "GaussianNB(priors=None)"
      ]
     },
     "execution_count": 92,
     "metadata": {},
     "output_type": "execute_result"
    }
   ],
   "source": [
    "from sklearn.naive_bayes import GaussianNB\n",
    "gNB=GaussianNB()\n",
    "gNB.fit(kmers_training_set_dense,label_training_set)"
   ]
  },
  {
   "cell_type": "code",
   "execution_count": 88,
   "metadata": {},
   "outputs": [
    {
     "name": "stdout",
     "output_type": "stream",
     "text": [
      "[150. 124.]\n",
      "[[0.         0.         0.         ... 0.00666667 0.00666667 0.00666667]\n",
      " [0.02419355 0.02419355 0.02419355 ... 0.         0.         0.        ]]\n",
      "[[2.50000000e-10 2.50000000e-10 2.50000000e-10 ... 6.62222247e-03\n",
      "  6.62222247e-03 6.62222247e-03]\n",
      " [2.36082209e-02 2.36082209e-02 2.36082209e-02 ... 2.50000000e-10\n",
      "  2.50000000e-10 2.50000000e-10]]\n",
      "1.0\n",
      "0.8813559322033898\n"
     ]
    }
   ],
   "source": [
    "print(gNB.class_count_)\n",
    "print(gNB.theta_)\n",
    "print(gNB.sigma_)\n",
    "print(gNB.score(kmers_training_set_dense,label_training_set))\n",
    "print(gNB.score(kmers_test_set_dense,label_test_set))\n",
    "\n",
    "#TODO: ADD SCORE TO NATIVE BAYES PRESENTATION"
   ]
  },
  {
   "cell_type": "code",
   "execution_count": 95,
   "metadata": {},
   "outputs": [
    {
     "name": "stdout",
     "output_type": "stream",
     "text": [
      "[[150   0]\n",
      " [  0 124]]\n",
      "[[56  8]\n",
      " [ 6 48]]\n"
     ]
    }
   ],
   "source": [
    "from sklearn.metrics import confusion_matrix\n",
    "\n",
    "predict_label_train_set = gNB.predict(kmers_training_set_dense)\n",
    "predict_label_test_set = gNB.predict(kmers_test_set_dense)\n",
    "\n",
    "print(confusion_matrix(label_training_set,predict_label_train_set))\n",
    "print(confusion_matrix(label_test_set,predict_label_test_set))"
   ]
  },
  {
   "cell_type": "markdown",
   "metadata": {},
   "source": [
    "## Exercise 4.1\n",
    "Apply Native Bayes to the PCA data and print confusion matrix for test data"
   ]
  },
  {
   "cell_type": "code",
   "execution_count": null,
   "metadata": {},
   "outputs": [],
   "source": []
  },
  {
   "cell_type": "code",
   "execution_count": 106,
   "metadata": {},
   "outputs": [
    {
     "name": "stdout",
     "output_type": "stream",
     "text": [
      "[[ 0.00751756  0.00751756  0.00751756 ... -0.00051974 -0.00051974\n",
      "  -0.00051974]]\n",
      "[0.00528085]\n",
      "1.0\n",
      "0.9576271186440678\n",
      "[[150   0]\n",
      " [  0 124]]\n",
      "[[61  3]\n",
      " [ 2 52]]\n"
     ]
    }
   ],
   "source": [
    "from sklearn.linear_model import LogisticRegression\n",
    "lgr=LogisticRegression()\n",
    "lgr.fit(kmers_training_set_dense,label_training_set)\n",
    "print(lgr.coef_) #TODO: CHANGE IN PRESENTATION\n",
    "print(lgr.intercept_)\n",
    "print(lgr.score(kmers_training_set_dense,label_training_set))\n",
    "print(lgr.score(kmers_test_set_dense,label_test_set))\n",
    "predict_label_train_set_lgr = lgr.predict(kmers_training_set_dense)\n",
    "predict_label_test_set_lgr = lgr.predict(kmers_test_set_dense)\n",
    "print(confusion_matrix(label_training_set,predict_label_train_set_lgr))\n",
    "print(confusion_matrix(label_test_set,predict_label_test_set_lgr))"
   ]
  },
  {
   "cell_type": "markdown",
   "metadata": {},
   "source": [
    "## Exercise 4.2\n",
    "Apply Logistic Regression to the PCA data and print confusion matrix for test data"
   ]
  },
  {
   "cell_type": "code",
   "execution_count": null,
   "metadata": {},
   "outputs": [],
   "source": []
  },
  {
   "cell_type": "code",
   "execution_count": 110,
   "metadata": {},
   "outputs": [
    {
     "name": "stdout",
     "output_type": "stream",
     "text": [
      "\n",
      "[0. 0. 0. ... 0. 0. 0.]\n",
      "The R^2 value for training set is:  1.0\n",
      "The R^2 value for test set is:  0.8728813559322034\n",
      "[[150   0]\n",
      " [  0 124]]\n",
      "[[56  8]\n",
      " [ 7 47]]\n"
     ]
    }
   ],
   "source": [
    "from sklearn.tree import DecisionTreeClassifier\n",
    "dtc = DecisionTreeClassifier(max_depth=None,random_state=0)\n",
    "dtc.fit(kmers_training_set_dense,label_training_set)\n",
    "#for feature,importance in zip(avocado_explanatory_variables.columns.values.tolist(),dtc.feature_importances_):\n",
    "#    print(feature,'variable has importance,', importance,'\\n')\n",
    "print(dtc.feature_importances_)\n",
    "print('The accuracy for training set is: ',dtc.score(kmers_training_set_dense,label_training_set))\n",
    "print('The accuracy for test set is: ',dtc.score(kmers_test_set_dense,label_test_set))\n",
    "predict_label_train_set_lgr = dtc.predict(kmers_training_set_dense)\n",
    "predict_label_test_set_lgr =  dtc.predict(kmers_test_set_dense)\n",
    "print(confusion_matrix(label_training_set,predict_label_train_set_lgr))\n",
    "print(confusion_matrix(label_test_set,predict_label_test_set_lgr))"
   ]
  },
  {
   "cell_type": "markdown",
   "metadata": {},
   "source": [
    "## Exercise 4.3\n",
    "\n",
    "Apply a decision tree to the PCA data and print confusion matrix for test data"
   ]
  },
  {
   "cell_type": "code",
   "execution_count": 118,
   "metadata": {},
   "outputs": [
    {
     "name": "stdout",
     "output_type": "stream",
     "text": [
      "[0. 0. 0. ... 0. 0. 0.]\n",
      "The accuracy for training set is:  1.0\n",
      "The accuracy for test set is:  0.923728813559322\n",
      "[[150   0]\n",
      " [  0 124]]\n",
      "[[60  4]\n",
      " [ 5 49]]\n"
     ]
    }
   ],
   "source": [
    "from sklearn.tree import DecisionTreeClassifier\n",
    "from sklearn.ensemble import AdaBoostClassifier\n",
    "\n",
    "adaboost = AdaBoostClassifier(base_estimator=DecisionTreeClassifier(max_depth=1),\n",
    "                              n_estimators=50, random_state=0)\n",
    "adaboost.fit(kmers_training_set_dense,label_training_set)\n",
    "#for feature,importance in zip(avocado_explanatory_variables.columns.values.tolist(),dtc.feature_importances_):\n",
    "#    print(feature,'variable has importance,', importance,'\\n')\n",
    "print(adaboost.feature_importances_)\n",
    "print('The accuracy for training set is: ',adaboost.score(kmers_training_set_dense,label_training_set))\n",
    "print('The accuracy for test set is: ',adaboost.score(kmers_test_set_dense,label_test_set))\n",
    "predict_label_train_set_ada = adaboost.predict(kmers_training_set_dense)\n",
    "predict_label_test_set_ada =  adaboost.predict(kmers_test_set_dense)\n",
    "print(confusion_matrix(label_training_set,predict_label_train_set_ada))\n",
    "print(confusion_matrix(label_test_set,predict_label_test_set_ada))"
   ]
  },
  {
   "cell_type": "markdown",
   "metadata": {},
   "source": [
    "## Exercise 4.4\n",
    "Apply Adaboost to the PCA data and print confusion matrix for test data"
   ]
  },
  {
   "cell_type": "code",
   "execution_count": 122,
   "metadata": {
    "scrolled": true
   },
   "outputs": [
    {
     "name": "stdout",
     "output_type": "stream",
     "text": [
      "The accuracy for training set is:  0.8941605839416058\n",
      "The accuracy for test set is:  0.9067796610169492\n",
      "[[146   4]\n",
      " [ 25  99]]\n",
      "[[62  2]\n",
      " [ 9 45]]\n"
     ]
    }
   ],
   "source": [
    "from sklearn.neighbors import KNeighborsClassifier\n",
    "knn=KNeighborsClassifier(n_neighbors=5)\n",
    "knn.fit(kmers_training_set_dense,label_training_set)\n",
    "#for feature,importance in zip(avocado_explanatory_variables.columns.values.tolist(),dtc.feature_importances_):\n",
    "#    print(feature,'variable has importance,', importance,'\\n')\n",
    "print('The accuracy for training set is: ',knn.score(kmers_training_set_dense,label_training_set))\n",
    "print('The accuracy for test set is: ',knn.score(kmers_test_set_dense,label_test_set))\n",
    "predict_label_train_set_knn = knn.predict(kmers_training_set_dense)\n",
    "predict_label_test_set_knn =  knn.predict(kmers_test_set_dense)\n",
    "print(confusion_matrix(label_training_set,predict_label_train_set_knn))\n",
    "print(confusion_matrix(label_test_set,predict_label_test_set_knn))"
   ]
  },
  {
   "cell_type": "markdown",
   "metadata": {},
   "source": [
    "## Exercise 4.5\n",
    "Apply KNN to the PCA data and print confusion matrix for test data"
   ]
  },
  {
   "cell_type": "markdown",
   "metadata": {},
   "source": [
    "# 5. Model Selection"
   ]
  },
  {
   "cell_type": "code",
   "execution_count": null,
   "metadata": {},
   "outputs": [],
   "source": []
  }
 ],
 "metadata": {
  "kernelspec": {
   "display_name": "Python 3",
   "language": "python",
   "name": "python3"
  },
  "language_info": {
   "codemirror_mode": {
    "name": "ipython",
    "version": 3
   },
   "file_extension": ".py",
   "mimetype": "text/x-python",
   "name": "python",
   "nbconvert_exporter": "python",
   "pygments_lexer": "ipython3",
   "version": "3.6.5"
  }
 },
 "nbformat": 4,
 "nbformat_minor": 1
}
